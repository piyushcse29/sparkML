{
 "cells": [
  {
   "cell_type": "markdown",
   "metadata": {},
   "source": [
    "# Linear Regression - Crew Members on Ship"
   ]
  },
  {
   "cell_type": "markdown",
   "metadata": {
    "collapsed": true
   },
   "source": [
    "Congratulations! You've been contracted by Hyundai Heavy Industries to help them build a predictive model for some ships. [Hyundai Heavy Industries](http://www.hyundai.eu/en) is one of the world's largest ship manufacturing companies and builds cruise liners.\n",
    "\n",
    "You've been flown to their headquarters in Ulsan, South Korea to help them give accurate estimates of how many crew members a ship will require.\n",
    "\n",
    "They are currently building new ships for some customers and want you to create a model and use it to predict how many crew members the ships will need.\n",
    "\n",
    "Here is what the data looks like so far:\n",
    "\n",
    "    Description: Measurements of ship size, capacity, crew, and age for 158 cruise\n",
    "    ships.\n",
    "\n",
    "\n",
    "    Variables/Columns\n",
    "    Ship Name     1-20\n",
    "    Cruise Line   21-40\n",
    "    Age (as of 2013)   46-48\n",
    "    Tonnage (1000s of tons)   50-56\n",
    "    passengers (100s)   58-64\n",
    "    Length (100s of feet)  66-72\n",
    "    Cabins  (100s)   74-80\n",
    "    Passenger Density   82-88\n",
    "    Crew  (100s)   90-96\n",
    "    \n",
    "It is saved in a csv file for you called \"cruise_ship_info.csv\". Your job is to create a regression model that will help predict how many crew members will be needed for future ships. The client also mentioned that they have found that particular cruise lines will differ in acceptable crew counts, so it is most likely an important feature to include in your analysis! \n"
   ]
  },
  {
   "cell_type": "code",
   "execution_count": 51,
   "metadata": {},
   "outputs": [],
   "source": [
    "from pyspark.sql import SparkSession"
   ]
  },
  {
   "cell_type": "code",
   "execution_count": 52,
   "metadata": {},
   "outputs": [],
   "source": [
    "spark = SparkSession.builder.appName('cruise').getOrCreate()"
   ]
  },
  {
   "cell_type": "code",
   "execution_count": 53,
   "metadata": {},
   "outputs": [],
   "source": [
    "df = spark.read.csv('../data/cruise_ship_info.csv',inferSchema=True,header=True)"
   ]
  },
  {
   "cell_type": "code",
   "execution_count": 54,
   "metadata": {},
   "outputs": [
    {
     "name": "stdout",
     "output_type": "stream",
     "text": [
      "root\n",
      " |-- Ship_name: string (nullable = true)\n",
      " |-- Cruise_line: string (nullable = true)\n",
      " |-- Age: integer (nullable = true)\n",
      " |-- Tonnage: double (nullable = true)\n",
      " |-- passengers: double (nullable = true)\n",
      " |-- length: double (nullable = true)\n",
      " |-- cabins: double (nullable = true)\n",
      " |-- passenger_density: double (nullable = true)\n",
      " |-- crew: double (nullable = true)\n",
      "\n"
     ]
    }
   ],
   "source": [
    "df.printSchema()"
   ]
  },
  {
   "cell_type": "code",
   "execution_count": 60,
   "metadata": {},
   "outputs": [
    {
     "name": "stdout",
     "output_type": "stream",
     "text": [
      "+-----------+-----------+---+------------------+----------+------+------+-----------------+----+\n",
      "|  Ship_name|Cruise_line|Age|           Tonnage|passengers|length|cabins|passenger_density|crew|\n",
      "+-----------+-----------+---+------------------+----------+------+------+-----------------+----+\n",
      "|    Journey|    Azamara|  6|30.276999999999997|      6.94|  5.94|  3.55|            42.64|3.55|\n",
      "|      Quest|    Azamara|  6|30.276999999999997|      6.94|  5.94|  3.55|            42.64|3.55|\n",
      "|Celebration|   Carnival| 26|            47.262|     14.86|  7.22|  7.43|             31.8| 6.7|\n",
      "|   Conquest|   Carnival| 11|             110.0|     29.74|  9.53| 14.88|            36.99|19.1|\n",
      "|    Destiny|   Carnival| 17|           101.353|     26.42|  8.92| 13.21|            38.36|10.0|\n",
      "|    Ecstasy|   Carnival| 22|            70.367|     20.52|  8.55|  10.2|            34.29| 9.2|\n",
      "|    Elation|   Carnival| 15|            70.367|     20.52|  8.55|  10.2|            34.29| 9.2|\n",
      "|    Fantasy|   Carnival| 23|            70.367|     20.56|  8.55| 10.22|            34.23| 9.2|\n",
      "|Fascination|   Carnival| 19|            70.367|     20.52|  8.55|  10.2|            34.29| 9.2|\n",
      "|    Freedom|   Carnival|  6|110.23899999999999|      37.0|  9.51| 14.87|            29.79|11.5|\n",
      "|      Glory|   Carnival| 10|             110.0|     29.74|  9.51| 14.87|            36.99|11.6|\n",
      "|    Holiday|   Carnival| 28|            46.052|     14.52|  7.27|  7.26|            31.72| 6.6|\n",
      "|Imagination|   Carnival| 18|            70.367|     20.52|  8.55|  10.2|            34.29| 9.2|\n",
      "|Inspiration|   Carnival| 17|            70.367|     20.52|  8.55|  10.2|            34.29| 9.2|\n",
      "|     Legend|   Carnival| 11|              86.0|     21.24|  9.63| 10.62|            40.49| 9.3|\n",
      "|   Liberty*|   Carnival|  8|             110.0|     29.74|  9.51| 14.87|            36.99|11.6|\n",
      "|    Miracle|   Carnival|  9|              88.5|     21.24|  9.63| 10.62|            41.67|10.3|\n",
      "|   Paradise|   Carnival| 15|            70.367|     20.52|  8.55|  10.2|            34.29| 9.2|\n",
      "|      Pride|   Carnival| 12|              88.5|     21.24|  9.63| 11.62|            41.67| 9.3|\n",
      "|  Sensation|   Carnival| 20|            70.367|     20.52|  8.55|  10.2|            34.29| 9.2|\n",
      "+-----------+-----------+---+------------------+----------+------+------+-----------------+----+\n",
      "only showing top 20 rows\n",
      "\n"
     ]
    }
   ],
   "source": [
    "df.show()"
   ]
  },
  {
   "cell_type": "code",
   "execution_count": 58,
   "metadata": {},
   "outputs": [
    {
     "name": "stdout",
     "output_type": "stream",
     "text": [
      "-RECORD 0-------------------------------\n",
      " summary           | count              \n",
      " Ship_name         | 158                \n",
      " Cruise_line       | 158                \n",
      " Age               | 158                \n",
      " Tonnage           | 158                \n",
      " passengers        | 158                \n",
      " length            | 158                \n",
      " cabins            | 158                \n",
      " passenger_density | 158                \n",
      " crew              | 158                \n",
      "-RECORD 1-------------------------------\n",
      " summary           | mean               \n",
      " Ship_name         | Infinity           \n",
      " Cruise_line       | null               \n",
      " Age               | 15.689873417721518 \n",
      " Tonnage           | 71.28467088607599  \n",
      " passengers        | 18.45740506329114  \n",
      " length            | 8.130632911392404  \n",
      " cabins            | 8.830000000000005  \n",
      " passenger_density | 39.90094936708861  \n",
      " crew              | 7.794177215189873  \n",
      "-RECORD 2-------------------------------\n",
      " summary           | stddev             \n",
      " Ship_name         | NaN                \n",
      " Cruise_line       | null               \n",
      " Age               | 7.615691058751413  \n",
      " Tonnage           | 37.229540025907866 \n",
      " passengers        | 9.677094775143416  \n",
      " length            | 1.793473548054825  \n",
      " cabins            | 4.4714172221480615 \n",
      " passenger_density | 8.63921711391542   \n",
      " crew              | 3.503486564627034  \n",
      "-RECORD 3-------------------------------\n",
      " summary           | min                \n",
      " Ship_name         | Adventure          \n",
      " Cruise_line       | Azamara            \n",
      " Age               | 4                  \n",
      " Tonnage           | 2.329              \n",
      " passengers        | 0.66               \n",
      " length            | 2.79               \n",
      " cabins            | 0.33               \n",
      " passenger_density | 17.7               \n",
      " crew              | 0.59               \n",
      "-RECORD 4-------------------------------\n",
      " summary           | max                \n",
      " Ship_name         | Zuiderdam          \n",
      " Cruise_line       | Windstar           \n",
      " Age               | 48                 \n",
      " Tonnage           | 220.0              \n",
      " passengers        | 54.0               \n",
      " length            | 11.82              \n",
      " cabins            | 27.0               \n",
      " passenger_density | 71.43              \n",
      " crew              | 21.0               \n",
      "\n"
     ]
    }
   ],
   "source": [
    "df.describe().show(n=5, truncate=False, vertical=True)"
   ]
  },
  {
   "cell_type": "markdown",
   "metadata": {},
   "source": [
    "## Dealing with the Cruise_line categorical variable\n",
    "Ship Name is a useless arbitrary string, but the cruise_line itself may be useful. Let's make it into a categorical variable!"
   ]
  },
  {
   "cell_type": "code",
   "execution_count": 59,
   "metadata": {},
   "outputs": [
    {
     "name": "stdout",
     "output_type": "stream",
     "text": [
      "+-----------------+-----+\n",
      "|      Cruise_line|count|\n",
      "+-----------------+-----+\n",
      "|            Costa|   11|\n",
      "|              P&O|    6|\n",
      "|           Cunard|    3|\n",
      "|Regent_Seven_Seas|    5|\n",
      "|              MSC|    8|\n",
      "|         Carnival|   22|\n",
      "|          Crystal|    2|\n",
      "|           Orient|    1|\n",
      "|         Princess|   17|\n",
      "|        Silversea|    4|\n",
      "|         Seabourn|    3|\n",
      "| Holland_American|   14|\n",
      "|         Windstar|    3|\n",
      "|           Disney|    2|\n",
      "|        Norwegian|   13|\n",
      "|          Oceania|    3|\n",
      "|          Azamara|    2|\n",
      "|        Celebrity|   10|\n",
      "|             Star|    6|\n",
      "|  Royal_Caribbean|   23|\n",
      "+-----------------+-----+\n",
      "\n"
     ]
    }
   ],
   "source": [
    "df.groupBy('Cruise_line').count().show()"
   ]
  },
  {
   "cell_type": "code",
   "execution_count": 63,
   "metadata": {},
   "outputs": [
    {
     "name": "stdout",
     "output_type": "stream",
     "text": [
      "+-----------+-----------+---+------------------+----------+------+------+-----------------+-----+----------+\n",
      "|  Ship_name|Cruise_line|Age|           Tonnage|passengers|length|cabins|passenger_density| crew|cruise_cat|\n",
      "+-----------+-----------+---+------------------+----------+------+------+-----------------+-----+----------+\n",
      "|    Journey|    Azamara|  6|30.276999999999997|      6.94|  5.94|  3.55|            42.64| 3.55|      16.0|\n",
      "|      Quest|    Azamara|  6|30.276999999999997|      6.94|  5.94|  3.55|            42.64| 3.55|      16.0|\n",
      "|Celebration|   Carnival| 26|            47.262|     14.86|  7.22|  7.43|             31.8|  6.7|       1.0|\n",
      "|   Conquest|   Carnival| 11|             110.0|     29.74|  9.53| 14.88|            36.99| 19.1|       1.0|\n",
      "|    Destiny|   Carnival| 17|           101.353|     26.42|  8.92| 13.21|            38.36| 10.0|       1.0|\n",
      "|    Ecstasy|   Carnival| 22|            70.367|     20.52|  8.55|  10.2|            34.29|  9.2|       1.0|\n",
      "|    Elation|   Carnival| 15|            70.367|     20.52|  8.55|  10.2|            34.29|  9.2|       1.0|\n",
      "|    Fantasy|   Carnival| 23|            70.367|     20.56|  8.55| 10.22|            34.23|  9.2|       1.0|\n",
      "|Fascination|   Carnival| 19|            70.367|     20.52|  8.55|  10.2|            34.29|  9.2|       1.0|\n",
      "|    Freedom|   Carnival|  6|110.23899999999999|      37.0|  9.51| 14.87|            29.79| 11.5|       1.0|\n",
      "|      Glory|   Carnival| 10|             110.0|     29.74|  9.51| 14.87|            36.99| 11.6|       1.0|\n",
      "|    Holiday|   Carnival| 28|            46.052|     14.52|  7.27|  7.26|            31.72|  6.6|       1.0|\n",
      "|Imagination|   Carnival| 18|            70.367|     20.52|  8.55|  10.2|            34.29|  9.2|       1.0|\n",
      "|Inspiration|   Carnival| 17|            70.367|     20.52|  8.55|  10.2|            34.29|  9.2|       1.0|\n",
      "|     Legend|   Carnival| 11|              86.0|     21.24|  9.63| 10.62|            40.49|  9.3|       1.0|\n",
      "|   Liberty*|   Carnival|  8|             110.0|     29.74|  9.51| 14.87|            36.99| 11.6|       1.0|\n",
      "|    Miracle|   Carnival|  9|              88.5|     21.24|  9.63| 10.62|            41.67| 10.3|       1.0|\n",
      "|   Paradise|   Carnival| 15|            70.367|     20.52|  8.55|  10.2|            34.29|  9.2|       1.0|\n",
      "|      Pride|   Carnival| 12|              88.5|     21.24|  9.63| 11.62|            41.67|  9.3|       1.0|\n",
      "|  Sensation|   Carnival| 20|            70.367|     20.52|  8.55|  10.2|            34.29|  9.2|       1.0|\n",
      "|     Spirit|   Carnival| 12|              88.5|     21.24|  9.63| 10.56|            41.67|10.29|       1.0|\n",
      "|    Triumph|   Carnival| 14|           101.509|     27.58|  8.93| 13.21|            36.81| 10.0|       1.0|\n",
      "|      Valor|   Carnival|  9|             110.0|     29.74|  9.52| 14.87|            36.99| 11.6|       1.0|\n",
      "|    Victory|   Carnival| 13|           101.509|     27.58|  8.93| 13.79|            36.81| 11.5|       1.0|\n",
      "|    Century|  Celebrity| 18| 70.60600000000001|      17.7|  8.15|  8.75|            39.89| 8.58|       6.0|\n",
      "+-----------+-----------+---+------------------+----------+------+------+-----------------+-----+----------+\n",
      "only showing top 25 rows\n",
      "\n"
     ]
    }
   ],
   "source": [
    "from pyspark.ml.feature import StringIndexer\n",
    "indexer = StringIndexer(inputCol=\"Cruise_line\", outputCol=\"cruise_cat\")\n",
    "indexed = indexer.fit(df).transform(df)\n",
    "indexed.show(25)"
   ]
  },
  {
   "cell_type": "code",
   "execution_count": 64,
   "metadata": {},
   "outputs": [],
   "source": [
    "from pyspark.ml.feature import VectorAssembler"
   ]
  },
  {
   "cell_type": "code",
   "execution_count": 65,
   "metadata": {},
   "outputs": [
    {
     "data": {
      "text/plain": [
       "['Ship_name',\n",
       " 'Cruise_line',\n",
       " 'Age',\n",
       " 'Tonnage',\n",
       " 'passengers',\n",
       " 'length',\n",
       " 'cabins',\n",
       " 'passenger_density',\n",
       " 'crew',\n",
       " 'cruise_cat']"
      ]
     },
     "execution_count": 65,
     "metadata": {},
     "output_type": "execute_result"
    }
   ],
   "source": [
    "indexed.columns"
   ]
  },
  {
   "cell_type": "code",
   "execution_count": 66,
   "metadata": {},
   "outputs": [],
   "source": [
    "assembler = VectorAssembler(\n",
    "  inputCols=['Age',\n",
    "             'Tonnage',\n",
    "             'passengers',\n",
    "             'length',\n",
    "             'cabins',\n",
    "             'passenger_density',\n",
    "             'cruise_cat'],\n",
    "    outputCol=\"features\")"
   ]
  },
  {
   "cell_type": "code",
   "execution_count": 69,
   "metadata": {},
   "outputs": [
    {
     "name": "stdout",
     "output_type": "stream",
     "text": [
      "-RECORD 0---------------------------------------------------------------\n",
      " Ship_name         | Journey                                            \n",
      " Cruise_line       | Azamara                                            \n",
      " Age               | 6                                                  \n",
      " Tonnage           | 30.276999999999997                                 \n",
      " passengers        | 6.94                                               \n",
      " length            | 5.94                                               \n",
      " cabins            | 3.55                                               \n",
      " passenger_density | 42.64                                              \n",
      " crew              | 3.55                                               \n",
      " cruise_cat        | 16.0                                               \n",
      " features          | [6.0,30.276999999999997,6.94,5.94,3.55,42.64,16.0] \n",
      "-RECORD 1---------------------------------------------------------------\n",
      " Ship_name         | Quest                                              \n",
      " Cruise_line       | Azamara                                            \n",
      " Age               | 6                                                  \n",
      " Tonnage           | 30.276999999999997                                 \n",
      " passengers        | 6.94                                               \n",
      " length            | 5.94                                               \n",
      " cabins            | 3.55                                               \n",
      " passenger_density | 42.64                                              \n",
      " crew              | 3.55                                               \n",
      " cruise_cat        | 16.0                                               \n",
      " features          | [6.0,30.276999999999997,6.94,5.94,3.55,42.64,16.0] \n",
      "-RECORD 2---------------------------------------------------------------\n",
      " Ship_name         | Celebration                                        \n",
      " Cruise_line       | Carnival                                           \n",
      " Age               | 26                                                 \n",
      " Tonnage           | 47.262                                             \n",
      " passengers        | 14.86                                              \n",
      " length            | 7.22                                               \n",
      " cabins            | 7.43                                               \n",
      " passenger_density | 31.8                                               \n",
      " crew              | 6.7                                                \n",
      " cruise_cat        | 1.0                                                \n",
      " features          | [26.0,47.262,14.86,7.22,7.43,31.8,1.0]             \n",
      "-RECORD 3---------------------------------------------------------------\n",
      " Ship_name         | Conquest                                           \n",
      " Cruise_line       | Carnival                                           \n",
      " Age               | 11                                                 \n",
      " Tonnage           | 110.0                                              \n",
      " passengers        | 29.74                                              \n",
      " length            | 9.53                                               \n",
      " cabins            | 14.88                                              \n",
      " passenger_density | 36.99                                              \n",
      " crew              | 19.1                                               \n",
      " cruise_cat        | 1.0                                                \n",
      " features          | [11.0,110.0,29.74,9.53,14.88,36.99,1.0]            \n",
      "-RECORD 4---------------------------------------------------------------\n",
      " Ship_name         | Destiny                                            \n",
      " Cruise_line       | Carnival                                           \n",
      " Age               | 17                                                 \n",
      " Tonnage           | 101.353                                            \n",
      " passengers        | 26.42                                              \n",
      " length            | 8.92                                               \n",
      " cabins            | 13.21                                              \n",
      " passenger_density | 38.36                                              \n",
      " crew              | 10.0                                               \n",
      " cruise_cat        | 1.0                                                \n",
      " features          | [17.0,101.353,26.42,8.92,13.21,38.36,1.0]          \n",
      "only showing top 5 rows\n",
      "\n"
     ]
    }
   ],
   "source": [
    "output = assembler.transform(indexed)\n",
    "output.show(n=5, truncate=False, vertical=True)"
   ]
  },
  {
   "cell_type": "code",
   "execution_count": 70,
   "metadata": {},
   "outputs": [
    {
     "name": "stdout",
     "output_type": "stream",
     "text": [
      "+--------------------+----+\n",
      "|            features|crew|\n",
      "+--------------------+----+\n",
      "|[6.0,30.276999999...|3.55|\n",
      "|[6.0,30.276999999...|3.55|\n",
      "|[26.0,47.262,14.8...| 6.7|\n",
      "|[11.0,110.0,29.74...|19.1|\n",
      "|[17.0,101.353,26....|10.0|\n",
      "|[22.0,70.367,20.5...| 9.2|\n",
      "|[15.0,70.367,20.5...| 9.2|\n",
      "|[23.0,70.367,20.5...| 9.2|\n",
      "|[19.0,70.367,20.5...| 9.2|\n",
      "|[6.0,110.23899999...|11.5|\n",
      "|[10.0,110.0,29.74...|11.6|\n",
      "|[28.0,46.052,14.5...| 6.6|\n",
      "|[18.0,70.367,20.5...| 9.2|\n",
      "|[17.0,70.367,20.5...| 9.2|\n",
      "|[11.0,86.0,21.24,...| 9.3|\n",
      "|[8.0,110.0,29.74,...|11.6|\n",
      "|[9.0,88.5,21.24,9...|10.3|\n",
      "|[15.0,70.367,20.5...| 9.2|\n",
      "|[12.0,88.5,21.24,...| 9.3|\n",
      "|[20.0,70.367,20.5...| 9.2|\n",
      "+--------------------+----+\n",
      "only showing top 20 rows\n",
      "\n"
     ]
    }
   ],
   "source": [
    "output.select(\"features\", \"crew\").show()"
   ]
  },
  {
   "cell_type": "code",
   "execution_count": 72,
   "metadata": {},
   "outputs": [],
   "source": [
    "final_data = output.select(\"features\", \"crew\")"
   ]
  },
  {
   "cell_type": "code",
   "execution_count": 73,
   "metadata": {},
   "outputs": [],
   "source": [
    "train_data,test_data = final_data.randomSplit([0.8,0.2])"
   ]
  },
  {
   "cell_type": "code",
   "execution_count": 74,
   "metadata": {},
   "outputs": [],
   "source": [
    "from pyspark.ml.regression import LinearRegression\n",
    "# Create a Linear Regression Model object\n",
    "lr = LinearRegression(labelCol='crew')"
   ]
  },
  {
   "cell_type": "code",
   "execution_count": 75,
   "metadata": {},
   "outputs": [],
   "source": [
    "# Fit the model to the data and call this model lrModel\n",
    "lrModel = lr.fit(train_data)"
   ]
  },
  {
   "cell_type": "code",
   "execution_count": 76,
   "metadata": {},
   "outputs": [
    {
     "name": "stdout",
     "output_type": "stream",
     "text": [
      "Coefficients: [-0.001826873723669741,0.0069754093180174215,-0.13555693363834198,0.394045519726484,0.869082293066353,0.0033330780844575128,0.04652644522602036] Intercept: -1.4147972761208418\n"
     ]
    }
   ],
   "source": [
    "# Print the coefficients and intercept for linear regression\n",
    "print(\"Coefficients: {} Intercept: {}\".format(lrModel.coefficients,lrModel.intercept))"
   ]
  },
  {
   "cell_type": "code",
   "execution_count": 77,
   "metadata": {},
   "outputs": [],
   "source": [
    "test_results = lrModel.evaluate(test_data)"
   ]
  },
  {
   "cell_type": "code",
   "execution_count": 78,
   "metadata": {},
   "outputs": [
    {
     "name": "stdout",
     "output_type": "stream",
     "text": [
      "RMSE: 1.0371148434343282\n",
      "MSE: 1.075607198471811\n",
      "R2: 0.9187972527417032\n"
     ]
    }
   ],
   "source": [
    "print(\"RMSE: {}\".format(test_results.rootMeanSquaredError))\n",
    "print(\"MSE: {}\".format(test_results.meanSquaredError))\n",
    "print(\"R2: {}\".format(test_results.r2))"
   ]
  },
  {
   "cell_type": "code",
   "execution_count": 81,
   "metadata": {},
   "outputs": [],
   "source": [
    "predictions = lrModel.transform(test_data)"
   ]
  },
  {
   "cell_type": "code",
   "execution_count": 82,
   "metadata": {},
   "outputs": [
    {
     "name": "stdout",
     "output_type": "stream",
     "text": [
      "+--------------------+-----+------------------+\n",
      "|            features| crew|        prediction|\n",
      "+--------------------+-----+------------------+\n",
      "|[4.0,220.0,54.0,1...| 21.0|21.051040419597214|\n",
      "|[5.0,122.0,28.5,1...|  6.7| 5.999164436242432|\n",
      "|[6.0,110.23899999...| 11.5| 11.14404251658495|\n",
      "|[7.0,89.6,25.5,9....| 9.87|11.051095636567602|\n",
      "|[9.0,59.058,17.0,...|  7.4|  7.51148976783106|\n",
      "|[9.0,85.0,19.68,9...| 8.69| 9.246172775886462|\n",
      "|[9.0,90.09,25.01,...| 8.69| 9.225432234048222|\n",
      "|[9.0,110.0,29.74,...| 11.6|12.148976728206653|\n",
      "|[9.0,113.0,26.74,...|12.38|11.333101629010054|\n",
      "|[10.0,77.0,20.16,...|  9.0| 8.717296542090068|\n",
      "|[10.0,81.76899999...| 8.42| 8.728499060556256|\n",
      "|[11.0,58.6,15.66,...|  7.6| 7.349362398739226|\n",
      "|[11.0,90.0,22.4,9...| 11.0|10.012708444082808|\n",
      "|[11.0,138.0,31.14...|11.85|13.005068310263635|\n",
      "|[12.0,88.5,21.24,...|10.29| 9.458957872113373|\n",
      "|[12.0,88.5,21.24,...|  9.3|10.380185102763708|\n",
      "|[12.0,91.0,20.32,...| 9.99| 9.148031126339239|\n",
      "|[12.0,138.0,31.14...|11.85|13.003241436539964|\n",
      "|[13.0,61.0,13.8,7...|  6.0| 6.456010266835561|\n",
      "|[14.0,30.27699999...| 3.73|3.4074083721366684|\n",
      "+--------------------+-----+------------------+\n",
      "only showing top 20 rows\n",
      "\n"
     ]
    }
   ],
   "source": [
    "predictions.show()"
   ]
  },
  {
   "cell_type": "code",
   "execution_count": null,
   "metadata": {},
   "outputs": [],
   "source": []
  }
 ],
 "metadata": {
  "anaconda-cloud": {},
  "kernelspec": {
   "display_name": "Python 3",
   "language": "python",
   "name": "python3"
  },
  "language_info": {
   "codemirror_mode": {
    "name": "ipython",
    "version": 3
   },
   "file_extension": ".py",
   "mimetype": "text/x-python",
   "name": "python",
   "nbconvert_exporter": "python",
   "pygments_lexer": "ipython3",
   "version": "3.7.9"
  }
 },
 "nbformat": 4,
 "nbformat_minor": 1
}
