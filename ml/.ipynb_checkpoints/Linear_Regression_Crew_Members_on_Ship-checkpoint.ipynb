{
 "cells": [
  {
   "cell_type": "markdown",
   "metadata": {},
   "source": [
    "# Linear Regression - Crew Members on Ship"
   ]
  },
  {
   "cell_type": "markdown",
   "metadata": {
    "collapsed": true
   },
   "source": [
    "Congratulations! You've been contracted by Hyundai Heavy Industries to help them build a predictive model for some ships. [Hyundai Heavy Industries](http://www.hyundai.eu/en) is one of the world's largest ship manufacturing companies and builds cruise liners.\n",
    "\n",
    "You've been flown to their headquarters in Ulsan, South Korea to help them give accurate estimates of how many crew members a ship will require.\n",
    "\n",
    "They are currently building new ships for some customers and want you to create a model and use it to predict how many crew members the ships will need.\n",
    "\n",
    "Here is what the data looks like so far:\n",
    "\n",
    "    Description: Measurements of ship size, capacity, crew, and age for 158 cruise\n",
    "    ships.\n",
    "\n",
    "\n",
    "    Variables/Columns\n",
    "    Ship Name     1-20\n",
    "    Cruise Line   21-40\n",
    "    Age (as of 2013)   46-48\n",
    "    Tonnage (1000s of tons)   50-56\n",
    "    passengers (100s)   58-64\n",
    "    Length (100s of feet)  66-72\n",
    "    Cabins  (100s)   74-80\n",
    "    Passenger Density   82-88\n",
    "    Crew  (100s)   90-96\n",
    "    \n",
    "It is saved in a csv file for you called \"cruise_ship_info.csv\". Your job is to create a regression model that will help predict how many crew members will be needed for future ships. The client also mentioned that they have found that particular cruise lines will differ in acceptable crew counts, so it is most likely an important feature to include in your analysis! \n"
   ]
  },
  {
   "cell_type": "code",
   "execution_count": 1,
   "metadata": {},
   "outputs": [],
   "source": [
    "from pyspark.sql import SparkSession"
   ]
  },
  {
   "cell_type": "code",
   "execution_count": 2,
   "metadata": {},
   "outputs": [],
   "source": [
    "spark = SparkSession.builder.appName('cruise').getOrCreate()"
   ]
  },
  {
   "cell_type": "code",
   "execution_count": 3,
   "metadata": {},
   "outputs": [],
   "source": [
    "df = spark.read.csv('../data/cruise_ship_info.csv',inferSchema=True,header=True)"
   ]
  },
  {
   "cell_type": "code",
   "execution_count": 4,
   "metadata": {},
   "outputs": [
    {
     "name": "stdout",
     "output_type": "stream",
     "text": [
      "root\n",
      " |-- Ship_name: string (nullable = true)\n",
      " |-- Cruise_line: string (nullable = true)\n",
      " |-- Age: integer (nullable = true)\n",
      " |-- Tonnage: double (nullable = true)\n",
      " |-- passengers: double (nullable = true)\n",
      " |-- length: double (nullable = true)\n",
      " |-- cabins: double (nullable = true)\n",
      " |-- passenger_density: double (nullable = true)\n",
      " |-- crew: double (nullable = true)\n",
      "\n"
     ]
    }
   ],
   "source": [
    "df.printSchema()"
   ]
  },
  {
   "cell_type": "code",
   "execution_count": 8,
   "metadata": {},
   "outputs": [
    {
     "data": {
      "text/html": [
       "<style>\n",
       "div.output_area pre {\n",
       "    white-space: pre;\n",
       "}\n",
       "</style>\n"
      ],
      "text/plain": [
       "<IPython.core.display.HTML object>"
      ]
     },
     "metadata": {},
     "output_type": "display_data"
    }
   ],
   "source": [
    "%%html\n",
    "<style>\n",
    "div.output_area pre {\n",
    "    white-space: pre;\n",
    "}\n",
    "</style>"
   ]
  },
  {
   "cell_type": "code",
   "execution_count": 11,
   "metadata": {},
   "outputs": [
    {
     "name": "stdout",
     "output_type": "stream",
     "text": [
      "-RECORD 0-------------------------------\n",
      " Ship_name         | Journey            \n",
      " Cruise_line       | Azamara            \n",
      " Age               | 6                  \n",
      " Tonnage           | 30.276999999999997 \n",
      " passengers        | 6.94               \n",
      " length            | 5.94               \n",
      " cabins            | 3.55               \n",
      " passenger_density | 42.64              \n",
      " crew              | 3.55               \n",
      "-RECORD 1-------------------------------\n",
      " Ship_name         | Quest              \n",
      " Cruise_line       | Azamara            \n",
      " Age               | 6                  \n",
      " Tonnage           | 30.276999999999997 \n",
      " passengers        | 6.94               \n",
      " length            | 5.94               \n",
      " cabins            | 3.55               \n",
      " passenger_density | 42.64              \n",
      " crew              | 3.55               \n",
      "-RECORD 2-------------------------------\n",
      " Ship_name         | Celebration        \n",
      " Cruise_line       | Carnival           \n",
      " Age               | 26                 \n",
      " Tonnage           | 47.262             \n",
      " passengers        | 14.86              \n",
      " length            | 7.22               \n",
      " cabins            | 7.43               \n",
      " passenger_density | 31.8               \n",
      " crew              | 6.7                \n",
      "-RECORD 3-------------------------------\n",
      " Ship_name         | Conquest           \n",
      " Cruise_line       | Carnival           \n",
      " Age               | 11                 \n",
      " Tonnage           | 110.0              \n",
      " passengers        | 29.74              \n",
      " length            | 9.53               \n",
      " cabins            | 14.88              \n",
      " passenger_density | 36.99              \n",
      " crew              | 19.1               \n",
      "-RECORD 4-------------------------------\n",
      " Ship_name         | Destiny            \n",
      " Cruise_line       | Carnival           \n",
      " Age               | 17                 \n",
      " Tonnage           | 101.353            \n",
      " passengers        | 26.42              \n",
      " length            | 8.92               \n",
      " cabins            | 13.21              \n",
      " passenger_density | 38.36              \n",
      " crew              | 10.0               \n",
      "only showing top 5 rows\n",
      "\n"
     ]
    }
   ],
   "source": [
    "df.show(n=5, truncate=False, vertical=True)"
   ]
  },
  {
   "cell_type": "code",
   "execution_count": 12,
   "metadata": {},
   "outputs": [
    {
     "name": "stdout",
     "output_type": "stream",
     "text": [
      "-RECORD 0-------------------------------\n",
      " summary           | count              \n",
      " Ship_name         | 158                \n",
      " Cruise_line       | 158                \n",
      " Age               | 158                \n",
      " Tonnage           | 158                \n",
      " passengers        | 158                \n",
      " length            | 158                \n",
      " cabins            | 158                \n",
      " passenger_density | 158                \n",
      " crew              | 158                \n",
      "-RECORD 1-------------------------------\n",
      " summary           | mean               \n",
      " Ship_name         | Infinity           \n",
      " Cruise_line       | null               \n",
      " Age               | 15.689873417721518 \n",
      " Tonnage           | 71.28467088607599  \n",
      " passengers        | 18.45740506329114  \n",
      " length            | 8.130632911392404  \n",
      " cabins            | 8.830000000000005  \n",
      " passenger_density | 39.90094936708861  \n",
      " crew              | 7.794177215189873  \n",
      "-RECORD 2-------------------------------\n",
      " summary           | stddev             \n",
      " Ship_name         | NaN                \n",
      " Cruise_line       | null               \n",
      " Age               | 7.615691058751413  \n",
      " Tonnage           | 37.229540025907866 \n",
      " passengers        | 9.677094775143416  \n",
      " length            | 1.793473548054825  \n",
      " cabins            | 4.4714172221480615 \n",
      " passenger_density | 8.63921711391542   \n",
      " crew              | 3.503486564627034  \n",
      "-RECORD 3-------------------------------\n",
      " summary           | min                \n",
      " Ship_name         | Adventure          \n",
      " Cruise_line       | Azamara            \n",
      " Age               | 4                  \n",
      " Tonnage           | 2.329              \n",
      " passengers        | 0.66               \n",
      " length            | 2.79               \n",
      " cabins            | 0.33               \n",
      " passenger_density | 17.7               \n",
      " crew              | 0.59               \n",
      "-RECORD 4-------------------------------\n",
      " summary           | max                \n",
      " Ship_name         | Zuiderdam          \n",
      " Cruise_line       | Windstar           \n",
      " Age               | 48                 \n",
      " Tonnage           | 220.0              \n",
      " passengers        | 54.0               \n",
      " length            | 11.82              \n",
      " cabins            | 27.0               \n",
      " passenger_density | 71.43              \n",
      " crew              | 21.0               \n",
      "\n"
     ]
    }
   ],
   "source": [
    "\n",
    "\n",
    "df.describe().show(n=5, truncate=False, vertical=True)"
   ]
  },
  {
   "cell_type": "markdown",
   "metadata": {},
   "source": [
    "## Dealing with the Cruise_line categorical variable\n",
    "Ship Name is a useless arbitrary string, but the cruise_line itself may be useful. Let's make it into a categorical variable!"
   ]
  },
  {
   "cell_type": "code",
   "execution_count": 7,
   "metadata": {},
   "outputs": [
    {
     "name": "stdout",
     "output_type": "stream",
     "text": [
      "+-----------------+-----+\n",
      "|      Cruise_line|count|\n",
      "+-----------------+-----+\n",
      "|            Costa|   11|\n",
      "|              P&O|    6|\n",
      "|           Cunard|    3|\n",
      "|Regent_Seven_Seas|    5|\n",
      "|              MSC|    8|\n",
      "|         Carnival|   22|\n",
      "|          Crystal|    2|\n",
      "|           Orient|    1|\n",
      "|         Princess|   17|\n",
      "|        Silversea|    4|\n",
      "|         Seabourn|    3|\n",
      "| Holland_American|   14|\n",
      "|         Windstar|    3|\n",
      "|           Disney|    2|\n",
      "|        Norwegian|   13|\n",
      "|          Oceania|    3|\n",
      "|          Azamara|    2|\n",
      "|        Celebrity|   10|\n",
      "|             Star|    6|\n",
      "|  Royal_Caribbean|   23|\n",
      "+-----------------+-----+\n",
      "\n"
     ]
    }
   ],
   "source": [
    "df.groupBy('Cruise_line').count().show()"
   ]
  },
  {
   "cell_type": "code",
   "execution_count": 15,
   "metadata": {},
   "outputs": [
    {
     "name": "stdout",
     "output_type": "stream",
     "text": [
      "+-----------+-----------+---+------------------+----------+------+------+-----------------+----+----------+\n",
      "|  Ship_name|Cruise_line|Age|           Tonnage|passengers|length|cabins|passenger_density|crew|cruise_cat|\n",
      "+-----------+-----------+---+------------------+----------+------+------+-----------------+----+----------+\n",
      "|    Journey|    Azamara|  6|30.276999999999997|      6.94|  5.94|  3.55|            42.64|3.55|      16.0|\n",
      "|      Quest|    Azamara|  6|30.276999999999997|      6.94|  5.94|  3.55|            42.64|3.55|      16.0|\n",
      "|Celebration|   Carnival| 26|            47.262|     14.86|  7.22|  7.43|             31.8| 6.7|       1.0|\n",
      "|   Conquest|   Carnival| 11|             110.0|     29.74|  9.53| 14.88|            36.99|19.1|       1.0|\n",
      "|    Destiny|   Carnival| 17|           101.353|     26.42|  8.92| 13.21|            38.36|10.0|       1.0|\n",
      "+-----------+-----------+---+------------------+----------+------+------+-----------------+----+----------+\n",
      "only showing top 5 rows\n",
      "\n"
     ]
    }
   ],
   "source": [
    "from pyspark.ml.feature import StringIndexer\n",
    "indexer = StringIndexer(inputCol=\"Cruise_line\", outputCol=\"cruise_cat\")\n",
    "indexed = indexer.fit(df).transform(df)\n",
    "indexed.show(5)"
   ]
  },
  {
   "cell_type": "code",
   "execution_count": 16,
   "metadata": {},
   "outputs": [],
   "source": [
    "from pyspark.ml.feature import VectorAssembler"
   ]
  },
  {
   "cell_type": "code",
   "execution_count": 17,
   "metadata": {},
   "outputs": [
    {
     "data": {
      "text/plain": [
       "['Ship_name',\n",
       " 'Cruise_line',\n",
       " 'Age',\n",
       " 'Tonnage',\n",
       " 'passengers',\n",
       " 'length',\n",
       " 'cabins',\n",
       " 'passenger_density',\n",
       " 'crew',\n",
       " 'cruise_cat']"
      ]
     },
     "execution_count": 17,
     "metadata": {},
     "output_type": "execute_result"
    }
   ],
   "source": [
    "indexed.columns"
   ]
  },
  {
   "cell_type": "code",
   "execution_count": 18,
   "metadata": {},
   "outputs": [],
   "source": [
    "assembler = VectorAssembler(\n",
    "  inputCols=['Age',\n",
    "             'Tonnage',\n",
    "             'passengers',\n",
    "             'length',\n",
    "             'cabins',\n",
    "             'passenger_density',\n",
    "             'cruise_cat'],\n",
    "    outputCol=\"features\")"
   ]
  },
  {
   "cell_type": "code",
   "execution_count": 21,
   "metadata": {},
   "outputs": [
    {
     "name": "stdout",
     "output_type": "stream",
     "text": [
      "-RECORD 0---------------------------------------------------------------\n",
      " Ship_name         | Journey                                            \n",
      " Cruise_line       | Azamara                                            \n",
      " Age               | 6                                                  \n",
      " Tonnage           | 30.276999999999997                                 \n",
      " passengers        | 6.94                                               \n",
      " length            | 5.94                                               \n",
      " cabins            | 3.55                                               \n",
      " passenger_density | 42.64                                              \n",
      " crew              | 3.55                                               \n",
      " cruise_cat        | 16.0                                               \n",
      " features          | [6.0,30.276999999999997,6.94,5.94,3.55,42.64,16.0] \n",
      "-RECORD 1---------------------------------------------------------------\n",
      " Ship_name         | Quest                                              \n",
      " Cruise_line       | Azamara                                            \n",
      " Age               | 6                                                  \n",
      " Tonnage           | 30.276999999999997                                 \n",
      " passengers        | 6.94                                               \n",
      " length            | 5.94                                               \n",
      " cabins            | 3.55                                               \n",
      " passenger_density | 42.64                                              \n",
      " crew              | 3.55                                               \n",
      " cruise_cat        | 16.0                                               \n",
      " features          | [6.0,30.276999999999997,6.94,5.94,3.55,42.64,16.0] \n",
      "-RECORD 2---------------------------------------------------------------\n",
      " Ship_name         | Celebration                                        \n",
      " Cruise_line       | Carnival                                           \n",
      " Age               | 26                                                 \n",
      " Tonnage           | 47.262                                             \n",
      " passengers        | 14.86                                              \n",
      " length            | 7.22                                               \n",
      " cabins            | 7.43                                               \n",
      " passenger_density | 31.8                                               \n",
      " crew              | 6.7                                                \n",
      " cruise_cat        | 1.0                                                \n",
      " features          | [26.0,47.262,14.86,7.22,7.43,31.8,1.0]             \n",
      "-RECORD 3---------------------------------------------------------------\n",
      " Ship_name         | Conquest                                           \n",
      " Cruise_line       | Carnival                                           \n",
      " Age               | 11                                                 \n",
      " Tonnage           | 110.0                                              \n",
      " passengers        | 29.74                                              \n",
      " length            | 9.53                                               \n",
      " cabins            | 14.88                                              \n",
      " passenger_density | 36.99                                              \n",
      " crew              | 19.1                                               \n",
      " cruise_cat        | 1.0                                                \n",
      " features          | [11.0,110.0,29.74,9.53,14.88,36.99,1.0]            \n",
      "-RECORD 4---------------------------------------------------------------\n",
      " Ship_name         | Destiny                                            \n",
      " Cruise_line       | Carnival                                           \n",
      " Age               | 17                                                 \n",
      " Tonnage           | 101.353                                            \n",
      " passengers        | 26.42                                              \n",
      " length            | 8.92                                               \n",
      " cabins            | 13.21                                              \n",
      " passenger_density | 38.36                                              \n",
      " crew              | 10.0                                               \n",
      " cruise_cat        | 1.0                                                \n",
      " features          | [17.0,101.353,26.42,8.92,13.21,38.36,1.0]          \n",
      "only showing top 5 rows\n",
      "\n"
     ]
    }
   ],
   "source": [
    "output = assembler.transform(indexed)\n",
    "output.show(n=5, truncate=False, vertical=True)"
   ]
  },
  {
   "cell_type": "code",
   "execution_count": 22,
   "metadata": {},
   "outputs": [
    {
     "name": "stdout",
     "output_type": "stream",
     "text": [
      "+--------------------+----+\n",
      "|            features|crew|\n",
      "+--------------------+----+\n",
      "|[6.0,30.276999999...|3.55|\n",
      "|[6.0,30.276999999...|3.55|\n",
      "|[26.0,47.262,14.8...| 6.7|\n",
      "|[11.0,110.0,29.74...|19.1|\n",
      "|[17.0,101.353,26....|10.0|\n",
      "|[22.0,70.367,20.5...| 9.2|\n",
      "|[15.0,70.367,20.5...| 9.2|\n",
      "|[23.0,70.367,20.5...| 9.2|\n",
      "|[19.0,70.367,20.5...| 9.2|\n",
      "|[6.0,110.23899999...|11.5|\n",
      "|[10.0,110.0,29.74...|11.6|\n",
      "|[28.0,46.052,14.5...| 6.6|\n",
      "|[18.0,70.367,20.5...| 9.2|\n",
      "|[17.0,70.367,20.5...| 9.2|\n",
      "|[11.0,86.0,21.24,...| 9.3|\n",
      "|[8.0,110.0,29.74,...|11.6|\n",
      "|[9.0,88.5,21.24,9...|10.3|\n",
      "|[15.0,70.367,20.5...| 9.2|\n",
      "|[12.0,88.5,21.24,...| 9.3|\n",
      "|[20.0,70.367,20.5...| 9.2|\n",
      "+--------------------+----+\n",
      "only showing top 20 rows\n",
      "\n"
     ]
    }
   ],
   "source": [
    "output.select(\"features\", \"crew\").show()"
   ]
  },
  {
   "cell_type": "code",
   "execution_count": 23,
   "metadata": {},
   "outputs": [],
   "source": [
    "final_data = output.select(\"features\", \"crew\")"
   ]
  },
  {
   "cell_type": "code",
   "execution_count": 24,
   "metadata": {},
   "outputs": [],
   "source": [
    "train_data,test_data = final_data.randomSplit([0.7,0.3])"
   ]
  },
  {
   "cell_type": "code",
   "execution_count": 25,
   "metadata": {},
   "outputs": [],
   "source": [
    "from pyspark.ml.regression import LinearRegression\n",
    "# Create a Linear Regression Model object\n",
    "lr = LinearRegression(labelCol='crew')"
   ]
  },
  {
   "cell_type": "code",
   "execution_count": 26,
   "metadata": {},
   "outputs": [],
   "source": [
    "# Fit the model to the data and call this model lrModel\n",
    "lrModel = lr.fit(train_data)"
   ]
  },
  {
   "cell_type": "code",
   "execution_count": 27,
   "metadata": {},
   "outputs": [
    {
     "name": "stdout",
     "output_type": "stream",
     "text": [
      "Coefficients: [-0.016208130834326522,0.003498280936095452,-0.13598010652529774,0.4771086689550805,0.8563375018456144,-0.0009234242519510042,0.05654545060532841] Intercept: -1.356636750347607\n"
     ]
    }
   ],
   "source": [
    "# Print the coefficients and intercept for linear regression\n",
    "print(\"Coefficients: {} Intercept: {}\".format(lrModel.coefficients,lrModel.intercept))"
   ]
  },
  {
   "cell_type": "code",
   "execution_count": 28,
   "metadata": {},
   "outputs": [],
   "source": [
    "test_results = lrModel.evaluate(test_data)"
   ]
  },
  {
   "cell_type": "code",
   "execution_count": 29,
   "metadata": {},
   "outputs": [
    {
     "name": "stdout",
     "output_type": "stream",
     "text": [
      "RMSE: 0.9486112938413002\n",
      "MSE: 0.8998633868032656\n",
      "R2: 0.8920276058948289\n"
     ]
    }
   ],
   "source": [
    "print(\"RMSE: {}\".format(test_results.rootMeanSquaredError))\n",
    "print(\"MSE: {}\".format(test_results.meanSquaredError))\n",
    "print(\"R2: {}\".format(test_results.r2))"
   ]
  }
 ],
 "metadata": {
  "anaconda-cloud": {},
  "kernelspec": {
   "display_name": "Python 3",
   "language": "python",
   "name": "python3"
  },
  "language_info": {
   "codemirror_mode": {
    "name": "ipython",
    "version": 3
   },
   "file_extension": ".py",
   "mimetype": "text/x-python",
   "name": "python",
   "nbconvert_exporter": "python",
   "pygments_lexer": "ipython3",
   "version": "3.7.9"
  }
 },
 "nbformat": 4,
 "nbformat_minor": 1
}
