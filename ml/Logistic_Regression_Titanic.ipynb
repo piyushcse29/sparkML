{
 "cells": [
  {
   "cell_type": "markdown",
   "metadata": {},
   "source": [
    "# Logistic Regression Titanic"
   ]
  },
  {
   "cell_type": "code",
   "execution_count": 31,
   "metadata": {},
   "outputs": [],
   "source": [
    "from pyspark.sql import SparkSession"
   ]
  },
  {
   "cell_type": "code",
   "execution_count": 32,
   "metadata": {},
   "outputs": [],
   "source": [
    "spark = SparkSession.builder.appName('titanic').getOrCreate()"
   ]
  },
  {
   "cell_type": "code",
   "execution_count": 33,
   "metadata": {},
   "outputs": [],
   "source": [
    "data = spark.read.csv('../data/titanic.csv',inferSchema=True,header=True)"
   ]
  },
  {
   "cell_type": "code",
   "execution_count": 36,
   "metadata": {},
   "outputs": [
    {
     "name": "stdout",
     "output_type": "stream",
     "text": [
      "+-----------+--------+------+--------------------+------+----+-----+-----+----------------+-------+-----+--------+\n",
      "|PassengerId|Survived|Pclass|                Name|   Sex| Age|SibSp|Parch|          Ticket|   Fare|Cabin|Embarked|\n",
      "+-----------+--------+------+--------------------+------+----+-----+-----+----------------+-------+-----+--------+\n",
      "|          1|       0|     3|Braund, Mr. Owen ...|  male|22.0|    1|    0|       A/5 21171|   7.25| null|       S|\n",
      "|          2|       1|     1|Cumings, Mrs. Joh...|female|38.0|    1|    0|        PC 17599|71.2833|  C85|       C|\n",
      "|          3|       1|     3|Heikkinen, Miss. ...|female|26.0|    0|    0|STON/O2. 3101282|  7.925| null|       S|\n",
      "|          4|       1|     1|Futrelle, Mrs. Ja...|female|35.0|    1|    0|          113803|   53.1| C123|       S|\n",
      "|          5|       0|     3|Allen, Mr. Willia...|  male|35.0|    0|    0|          373450|   8.05| null|       S|\n",
      "+-----------+--------+------+--------------------+------+----+-----+-----+----------------+-------+-----+--------+\n",
      "only showing top 5 rows\n",
      "\n"
     ]
    }
   ],
   "source": [
    "data.show(n=5)"
   ]
  },
  {
   "cell_type": "code",
   "execution_count": 34,
   "metadata": {},
   "outputs": [
    {
     "name": "stdout",
     "output_type": "stream",
     "text": [
      "root\n",
      " |-- PassengerId: integer (nullable = true)\n",
      " |-- Survived: integer (nullable = true)\n",
      " |-- Pclass: integer (nullable = true)\n",
      " |-- Name: string (nullable = true)\n",
      " |-- Sex: string (nullable = true)\n",
      " |-- Age: double (nullable = true)\n",
      " |-- SibSp: integer (nullable = true)\n",
      " |-- Parch: integer (nullable = true)\n",
      " |-- Ticket: string (nullable = true)\n",
      " |-- Fare: double (nullable = true)\n",
      " |-- Cabin: string (nullable = true)\n",
      " |-- Embarked: string (nullable = true)\n",
      "\n"
     ]
    }
   ],
   "source": [
    "data.printSchema()"
   ]
  },
  {
   "cell_type": "code",
   "execution_count": 37,
   "metadata": {},
   "outputs": [
    {
     "data": {
      "text/plain": [
       "['PassengerId',\n",
       " 'Survived',\n",
       " 'Pclass',\n",
       " 'Name',\n",
       " 'Sex',\n",
       " 'Age',\n",
       " 'SibSp',\n",
       " 'Parch',\n",
       " 'Ticket',\n",
       " 'Fare',\n",
       " 'Cabin',\n",
       " 'Embarked']"
      ]
     },
     "execution_count": 37,
     "metadata": {},
     "output_type": "execute_result"
    }
   ],
   "source": [
    "data.columns"
   ]
  },
  {
   "cell_type": "code",
   "execution_count": 38,
   "metadata": {},
   "outputs": [],
   "source": [
    "my_cols = data.select(['Survived',\n",
    " 'Pclass',\n",
    " 'Sex',\n",
    " 'Age',\n",
    " 'SibSp',\n",
    " 'Parch',\n",
    " 'Fare',\n",
    " 'Embarked'])"
   ]
  },
  {
   "cell_type": "code",
   "execution_count": 39,
   "metadata": {},
   "outputs": [],
   "source": [
    "my_final_data = my_cols.na.drop()"
   ]
  },
  {
   "cell_type": "code",
   "execution_count": 40,
   "metadata": {},
   "outputs": [
    {
     "name": "stdout",
     "output_type": "stream",
     "text": [
      "+--------+------+------+----+-----+-----+-------+--------+\n",
      "|Survived|Pclass|   Sex| Age|SibSp|Parch|   Fare|Embarked|\n",
      "+--------+------+------+----+-----+-----+-------+--------+\n",
      "|       0|     3|  male|22.0|    1|    0|   7.25|       S|\n",
      "|       1|     1|female|38.0|    1|    0|71.2833|       C|\n",
      "|       1|     3|female|26.0|    0|    0|  7.925|       S|\n",
      "|       1|     1|female|35.0|    1|    0|   53.1|       S|\n",
      "|       0|     3|  male|35.0|    0|    0|   8.05|       S|\n",
      "|       0|     1|  male|54.0|    0|    0|51.8625|       S|\n",
      "|       0|     3|  male| 2.0|    3|    1| 21.075|       S|\n",
      "|       1|     3|female|27.0|    0|    2|11.1333|       S|\n",
      "|       1|     2|female|14.0|    1|    0|30.0708|       C|\n",
      "|       1|     3|female| 4.0|    1|    1|   16.7|       S|\n",
      "|       1|     1|female|58.0|    0|    0|  26.55|       S|\n",
      "|       0|     3|  male|20.0|    0|    0|   8.05|       S|\n",
      "|       0|     3|  male|39.0|    1|    5| 31.275|       S|\n",
      "|       0|     3|female|14.0|    0|    0| 7.8542|       S|\n",
      "|       1|     2|female|55.0|    0|    0|   16.0|       S|\n",
      "|       0|     3|  male| 2.0|    4|    1| 29.125|       Q|\n",
      "|       0|     3|female|31.0|    1|    0|   18.0|       S|\n",
      "|       0|     2|  male|35.0|    0|    0|   26.0|       S|\n",
      "|       1|     2|  male|34.0|    0|    0|   13.0|       S|\n",
      "|       1|     3|female|15.0|    0|    0| 8.0292|       Q|\n",
      "+--------+------+------+----+-----+-----+-------+--------+\n",
      "only showing top 20 rows\n",
      "\n"
     ]
    }
   ],
   "source": [
    "my_final_data.show()"
   ]
  },
  {
   "cell_type": "markdown",
   "metadata": {},
   "source": [
    "### Working with Categorical Columns\n",
    "\n",
    "Let's break this down into multiple steps to make it all clear."
   ]
  },
  {
   "cell_type": "code",
   "execution_count": 41,
   "metadata": {},
   "outputs": [],
   "source": [
    "from pyspark.ml.feature import (VectorAssembler,VectorIndexer,\n",
    "                                OneHotEncoder,StringIndexer)"
   ]
  },
  {
   "cell_type": "code",
   "execution_count": 42,
   "metadata": {},
   "outputs": [],
   "source": [
    "gender_indexer = StringIndexer(inputCol='Sex',outputCol='SexIndex')\n",
    "gender_encoder = OneHotEncoder(inputCol='SexIndex',outputCol='SexVec')"
   ]
  },
  {
   "cell_type": "code",
   "execution_count": 43,
   "metadata": {},
   "outputs": [],
   "source": [
    "embark_indexer = StringIndexer(inputCol='Embarked',outputCol='EmbarkIndex')\n",
    "embark_encoder = OneHotEncoder(inputCol='EmbarkIndex',outputCol='EmbarkVec')"
   ]
  },
  {
   "cell_type": "code",
   "execution_count": 44,
   "metadata": {},
   "outputs": [],
   "source": [
    "assembler = VectorAssembler(inputCols=['Pclass',\n",
    " 'SexVec',\n",
    " 'Age',\n",
    " 'SibSp',\n",
    " 'Parch',\n",
    " 'Fare',\n",
    " 'EmbarkVec'],outputCol='features')"
   ]
  },
  {
   "cell_type": "code",
   "execution_count": 45,
   "metadata": {},
   "outputs": [],
   "source": [
    "from pyspark.ml.classification import LogisticRegression"
   ]
  },
  {
   "cell_type": "markdown",
   "metadata": {},
   "source": [
    "## Pipelines \n",
    "\n",
    "Let's see an example of how to use pipelines (we'll get a lot more practice with these later!)"
   ]
  },
  {
   "cell_type": "code",
   "execution_count": 46,
   "metadata": {},
   "outputs": [],
   "source": [
    "from pyspark.ml import Pipeline"
   ]
  },
  {
   "cell_type": "code",
   "execution_count": 47,
   "metadata": {},
   "outputs": [],
   "source": [
    "log_reg_titanic = LogisticRegression(featuresCol='features',labelCol='Survived')"
   ]
  },
  {
   "cell_type": "code",
   "execution_count": 48,
   "metadata": {},
   "outputs": [],
   "source": [
    "pipeline = Pipeline(stages=[gender_indexer,embark_indexer,\n",
    "                           gender_encoder,embark_encoder,\n",
    "                           assembler,log_reg_titanic])"
   ]
  },
  {
   "cell_type": "code",
   "execution_count": 49,
   "metadata": {},
   "outputs": [],
   "source": [
    "train_titanic_data, test_titanic_data = my_final_data.randomSplit([0.7,.3])"
   ]
  },
  {
   "cell_type": "code",
   "execution_count": 50,
   "metadata": {},
   "outputs": [],
   "source": [
    "fit_model = pipeline.fit(train_titanic_data)"
   ]
  },
  {
   "cell_type": "code",
   "execution_count": 51,
   "metadata": {},
   "outputs": [],
   "source": [
    "results = fit_model.transform(test_titanic_data)"
   ]
  },
  {
   "cell_type": "code",
   "execution_count": 54,
   "metadata": {},
   "outputs": [
    {
     "name": "stdout",
     "output_type": "stream",
     "text": [
      "-RECORD 0-----------------------------\n",
      " Survived      | 0                    \n",
      " Pclass        | 1                    \n",
      " Sex           | female               \n",
      " Age           | 25.0                 \n",
      " SibSp         | 1                    \n",
      " Parch         | 2                    \n",
      " Fare          | 151.55               \n",
      " Embarked      | S                    \n",
      " SexIndex      | 1.0                  \n",
      " EmbarkIndex   | 0.0                  \n",
      " SexVec        | (1,[],[])            \n",
      " EmbarkVec     | (2,[0],[1.0])        \n",
      " features      | [1.0,0.0,25.0,1.0... \n",
      " rawPrediction | [-2.5839176475747... \n",
      " probability   | [0.07018065263515... \n",
      " prediction    | 1.0                  \n",
      "-RECORD 1-----------------------------\n",
      " Survived      | 0                    \n",
      " Pclass        | 1                    \n",
      " Sex           | male                 \n",
      " Age           | 22.0                 \n",
      " SibSp         | 0                    \n",
      " Parch         | 0                    \n",
      " Fare          | 135.6333             \n",
      " Embarked      | C                    \n",
      " SexIndex      | 0.0                  \n",
      " EmbarkIndex   | 1.0                  \n",
      " SexVec        | (1,[0],[1.0])        \n",
      " EmbarkVec     | (2,[1],[1.0])        \n",
      " features      | [1.0,1.0,22.0,0.0... \n",
      " rawPrediction | [-0.9463205999689... \n",
      " probability   | [0.27962538070752... \n",
      " prediction    | 1.0                  \n",
      "-RECORD 2-----------------------------\n",
      " Survived      | 0                    \n",
      " Pclass        | 1                    \n",
      " Sex           | male                 \n",
      " Age           | 27.0                 \n",
      " SibSp         | 0                    \n",
      " Parch         | 2                    \n",
      " Fare          | 211.5                \n",
      " Embarked      | C                    \n",
      " SexIndex      | 0.0                  \n",
      " EmbarkIndex   | 1.0                  \n",
      " SexVec        | (1,[0],[1.0])        \n",
      " EmbarkVec     | (2,[1],[1.0])        \n",
      " features      | [1.0,1.0,27.0,0.0... \n",
      " rawPrediction | [-0.8533884461239... \n",
      " probability   | [0.29872253704379... \n",
      " prediction    | 1.0                  \n",
      "-RECORD 3-----------------------------\n",
      " Survived      | 0                    \n",
      " Pclass        | 1                    \n",
      " Sex           | male                 \n",
      " Age           | 38.0                 \n",
      " SibSp         | 0                    \n",
      " Parch         | 0                    \n",
      " Fare          | 0.0                  \n",
      " Embarked      | S                    \n",
      " SexIndex      | 0.0                  \n",
      " EmbarkIndex   | 0.0                  \n",
      " SexVec        | (1,[0],[1.0])        \n",
      " EmbarkVec     | (2,[0],[1.0])        \n",
      " features      | (8,[0,1,2,6],[1.0... \n",
      " rawPrediction | [0.59956365283656... \n",
      " probability   | [0.64555647052778... \n",
      " prediction    | 0.0                  \n",
      "-RECORD 4-----------------------------\n",
      " Survived      | 0                    \n",
      " Pclass        | 1                    \n",
      " Sex           | male                 \n",
      " Age           | 45.0                 \n",
      " SibSp         | 0                    \n",
      " Parch         | 0                    \n",
      " Fare          | 26.55                \n",
      " Embarked      | S                    \n",
      " SexIndex      | 0.0                  \n",
      " EmbarkIndex   | 0.0                  \n",
      " SexVec        | (1,[0],[1.0])        \n",
      " EmbarkVec     | (2,[0],[1.0])        \n",
      " features      | [1.0,1.0,45.0,0.0... \n",
      " rawPrediction | [0.74335658730651... \n",
      " probability   | [0.67772941296883... \n",
      " prediction    | 0.0                  \n",
      "only showing top 5 rows\n",
      "\n"
     ]
    }
   ],
   "source": [
    "results.show(n = 5, vertical=True)"
   ]
  },
  {
   "cell_type": "code",
   "execution_count": 55,
   "metadata": {},
   "outputs": [
    {
     "name": "stdout",
     "output_type": "stream",
     "text": [
      "+--------+----------+\n",
      "|Survived|prediction|\n",
      "+--------+----------+\n",
      "|       0|       1.0|\n",
      "|       0|       1.0|\n",
      "|       0|       1.0|\n",
      "|       0|       0.0|\n",
      "|       0|       0.0|\n",
      "|       0|       0.0|\n",
      "|       0|       0.0|\n",
      "|       0|       0.0|\n",
      "|       0|       0.0|\n",
      "|       0|       0.0|\n",
      "|       0|       0.0|\n",
      "|       0|       0.0|\n",
      "|       0|       1.0|\n",
      "|       0|       0.0|\n",
      "|       0|       0.0|\n",
      "|       0|       0.0|\n",
      "|       0|       0.0|\n",
      "|       0|       0.0|\n",
      "|       0|       0.0|\n",
      "|       0|       0.0|\n",
      "|       0|       0.0|\n",
      "|       0|       0.0|\n",
      "|       0|       0.0|\n",
      "|       0|       0.0|\n",
      "|       0|       0.0|\n",
      "|       0|       0.0|\n",
      "|       0|       0.0|\n",
      "|       0|       0.0|\n",
      "|       0|       0.0|\n",
      "|       0|       0.0|\n",
      "+--------+----------+\n",
      "only showing top 30 rows\n",
      "\n"
     ]
    }
   ],
   "source": [
    "results.select(\"Survived\", \"prediction\").show(n=30)"
   ]
  },
  {
   "cell_type": "code",
   "execution_count": 56,
   "metadata": {},
   "outputs": [
    {
     "name": "stdout",
     "output_type": "stream",
     "text": [
      "-RECORD 0-----------------------------\n",
      " Survived      | 0                    \n",
      " Pclass        | 1                    \n",
      " Sex           | female               \n",
      " Age           | 25.0                 \n",
      " SibSp         | 1                    \n",
      " Parch         | 2                    \n",
      " Fare          | 151.55               \n",
      " Embarked      | S                    \n",
      " SexIndex      | 1.0                  \n",
      " EmbarkIndex   | 0.0                  \n",
      " SexVec        | (1,[],[])            \n",
      " EmbarkVec     | (2,[0],[1.0])        \n",
      " features      | [1.0,0.0,25.0,1.0... \n",
      " rawPrediction | [-2.5839176475747... \n",
      " probability   | [0.07018065263515... \n",
      " prediction    | 1.0                  \n",
      "-RECORD 1-----------------------------\n",
      " Survived      | 0                    \n",
      " Pclass        | 1                    \n",
      " Sex           | male                 \n",
      " Age           | 22.0                 \n",
      " SibSp         | 0                    \n",
      " Parch         | 0                    \n",
      " Fare          | 135.6333             \n",
      " Embarked      | C                    \n",
      " SexIndex      | 0.0                  \n",
      " EmbarkIndex   | 1.0                  \n",
      " SexVec        | (1,[0],[1.0])        \n",
      " EmbarkVec     | (2,[1],[1.0])        \n",
      " features      | [1.0,1.0,22.0,0.0... \n",
      " rawPrediction | [-0.9463205999689... \n",
      " probability   | [0.27962538070752... \n",
      " prediction    | 1.0                  \n",
      "-RECORD 2-----------------------------\n",
      " Survived      | 0                    \n",
      " Pclass        | 1                    \n",
      " Sex           | male                 \n",
      " Age           | 27.0                 \n",
      " SibSp         | 0                    \n",
      " Parch         | 2                    \n",
      " Fare          | 211.5                \n",
      " Embarked      | C                    \n",
      " SexIndex      | 0.0                  \n",
      " EmbarkIndex   | 1.0                  \n",
      " SexVec        | (1,[0],[1.0])        \n",
      " EmbarkVec     | (2,[1],[1.0])        \n",
      " features      | [1.0,1.0,27.0,0.0... \n",
      " rawPrediction | [-0.8533884461239... \n",
      " probability   | [0.29872253704379... \n",
      " prediction    | 1.0                  \n",
      "-RECORD 3-----------------------------\n",
      " Survived      | 0                    \n",
      " Pclass        | 1                    \n",
      " Sex           | male                 \n",
      " Age           | 38.0                 \n",
      " SibSp         | 0                    \n",
      " Parch         | 0                    \n",
      " Fare          | 0.0                  \n",
      " Embarked      | S                    \n",
      " SexIndex      | 0.0                  \n",
      " EmbarkIndex   | 0.0                  \n",
      " SexVec        | (1,[0],[1.0])        \n",
      " EmbarkVec     | (2,[0],[1.0])        \n",
      " features      | (8,[0,1,2,6],[1.0... \n",
      " rawPrediction | [0.59956365283656... \n",
      " probability   | [0.64555647052778... \n",
      " prediction    | 0.0                  \n",
      "-RECORD 4-----------------------------\n",
      " Survived      | 0                    \n",
      " Pclass        | 1                    \n",
      " Sex           | male                 \n",
      " Age           | 45.0                 \n",
      " SibSp         | 0                    \n",
      " Parch         | 0                    \n",
      " Fare          | 26.55                \n",
      " Embarked      | S                    \n",
      " SexIndex      | 0.0                  \n",
      " EmbarkIndex   | 0.0                  \n",
      " SexVec        | (1,[0],[1.0])        \n",
      " EmbarkVec     | (2,[0],[1.0])        \n",
      " features      | [1.0,1.0,45.0,0.0... \n",
      " rawPrediction | [0.74335658730651... \n",
      " probability   | [0.67772941296883... \n",
      " prediction    | 0.0                  \n",
      "-RECORD 5-----------------------------\n",
      " Survived      | 0                    \n",
      " Pclass        | 1                    \n",
      " Sex           | male                 \n",
      " Age           | 45.0                 \n",
      " SibSp         | 1                    \n",
      " Parch         | 0                    \n",
      " Fare          | 83.475               \n",
      " Embarked      | S                    \n",
      " SexIndex      | 0.0                  \n",
      " EmbarkIndex   | 0.0                  \n",
      " SexVec        | (1,[0],[1.0])        \n",
      " EmbarkVec     | (2,[0],[1.0])        \n",
      " features      | [1.0,1.0,45.0,1.0... \n",
      " rawPrediction | [0.86030829373160... \n",
      " probability   | [0.70272506171609... \n",
      " prediction    | 0.0                  \n",
      "-RECORD 6-----------------------------\n",
      " Survived      | 0                    \n",
      " Pclass        | 1                    \n",
      " Sex           | male                 \n",
      " Age           | 47.0                 \n",
      " SibSp         | 0                    \n",
      " Parch         | 0                    \n",
      " Fare          | 38.5                 \n",
      " Embarked      | S                    \n",
      " SexIndex      | 0.0                  \n",
      " EmbarkIndex   | 0.0                  \n",
      " SexVec        | (1,[0],[1.0])        \n",
      " EmbarkVec     | (2,[0],[1.0])        \n",
      " features      | [1.0,1.0,47.0,0.0... \n",
      " rawPrediction | [0.76689627163387... \n",
      " probability   | [0.68284911285656... \n",
      " prediction    | 0.0                  \n",
      "-RECORD 7-----------------------------\n",
      " Survived      | 0                    \n",
      " Pclass        | 1                    \n",
      " Sex           | male                 \n",
      " Age           | 55.0                 \n",
      " SibSp         | 0                    \n",
      " Parch         | 0                    \n",
      " Fare          | 30.5                 \n",
      " Embarked      | S                    \n",
      " SexIndex      | 0.0                  \n",
      " EmbarkIndex   | 0.0                  \n",
      " SexVec        | (1,[0],[1.0])        \n",
      " EmbarkVec     | (2,[0],[1.0])        \n",
      " features      | [1.0,1.0,55.0,0.0... \n",
      " rawPrediction | [1.08536567305398... \n",
      " probability   | [0.74750804351404... \n",
      " prediction    | 0.0                  \n",
      "-RECORD 8-----------------------------\n",
      " Survived      | 0                    \n",
      " Pclass        | 1                    \n",
      " Sex           | male                 \n",
      " Age           | 56.0                 \n",
      " SibSp         | 0                    \n",
      " Parch         | 0                    \n",
      " Fare          | 26.55                \n",
      " Embarked      | S                    \n",
      " SexIndex      | 0.0                  \n",
      " EmbarkIndex   | 0.0                  \n",
      " SexVec        | (1,[0],[1.0])        \n",
      " EmbarkVec     | (2,[0],[1.0])        \n",
      " features      | [1.0,1.0,56.0,0.0... \n",
      " rawPrediction | [1.13703306613699... \n",
      " probability   | [0.75713448999875... \n",
      " prediction    | 0.0                  \n",
      "-RECORD 9-----------------------------\n",
      " Survived      | 0                    \n",
      " Pclass        | 1                    \n",
      " Sex           | male                 \n",
      " Age           | 61.0                 \n",
      " SibSp         | 0                    \n",
      " Parch         | 0                    \n",
      " Fare          | 33.5                 \n",
      " Embarked      | S                    \n",
      " SexIndex      | 0.0                  \n",
      " EmbarkIndex   | 0.0                  \n",
      " SexVec        | (1,[0],[1.0])        \n",
      " EmbarkVec     | (2,[0],[1.0])        \n",
      " features      | [1.0,1.0,61.0,0.0... \n",
      " rawPrediction | [1.28803858474637... \n",
      " probability   | [0.78381501427160... \n",
      " prediction    | 0.0                  \n",
      "-RECORD 10----------------------------\n",
      " Survived      | 0                    \n",
      " Pclass        | 1                    \n",
      " Sex           | male                 \n",
      " Age           | 62.0                 \n",
      " SibSp         | 0                    \n",
      " Parch         | 0                    \n",
      " Fare          | 26.55                \n",
      " Embarked      | S                    \n",
      " SexIndex      | 0.0                  \n",
      " EmbarkIndex   | 0.0                  \n",
      " SexVec        | (1,[0],[1.0])        \n",
      " EmbarkVec     | (2,[0],[1.0])        \n",
      " features      | [1.0,1.0,62.0,0.0... \n",
      " rawPrediction | [1.35176569095361... \n",
      " probability   | [0.79441814714614... \n",
      " prediction    | 0.0                  \n",
      "-RECORD 11----------------------------\n",
      " Survived      | 0                    \n",
      " Pclass        | 1                    \n",
      " Sex           | male                 \n",
      " Age           | 71.0                 \n",
      " SibSp         | 0                    \n",
      " Parch         | 0                    \n",
      " Fare          | 34.6542              \n",
      " Embarked      | C                    \n",
      " SexIndex      | 0.0                  \n",
      " EmbarkIndex   | 1.0                  \n",
      " SexVec        | (1,[0],[1.0])        \n",
      " EmbarkVec     | (2,[1],[1.0])        \n",
      " features      | [1.0,1.0,71.0,0.0... \n",
      " rawPrediction | [1.21325549521446... \n",
      " probability   | [0.77087446447837... \n",
      " prediction    | 0.0                  \n",
      "-RECORD 12----------------------------\n",
      " Survived      | 0                    \n",
      " Pclass        | 2                    \n",
      " Sex           | female               \n",
      " Age           | 57.0                 \n",
      " SibSp         | 0                    \n",
      " Parch         | 0                    \n",
      " Fare          | 10.5                 \n",
      " Embarked      | S                    \n",
      " SexIndex      | 1.0                  \n",
      " EmbarkIndex   | 0.0                  \n",
      " SexVec        | (1,[],[])            \n",
      " EmbarkVec     | (2,[0],[1.0])        \n",
      " features      | (8,[0,2,5,6],[2.0... \n",
      " rawPrediction | [-0.5170367808708... \n",
      " probability   | [0.37354539407815... \n",
      " prediction    | 1.0                  \n",
      "-RECORD 13----------------------------\n",
      " Survived      | 0                    \n",
      " Pclass        | 2                    \n",
      " Sex           | male                 \n",
      " Age           | 16.0                 \n",
      " SibSp         | 0                    \n",
      " Parch         | 0                    \n",
      " Fare          | 26.0                 \n",
      " Embarked      | S                    \n",
      " SexIndex      | 0.0                  \n",
      " EmbarkIndex   | 0.0                  \n",
      " SexVec        | (1,[0],[1.0])        \n",
      " EmbarkVec     | (2,[0],[1.0])        \n",
      " features      | [2.0,1.0,16.0,0.0... \n",
      " rawPrediction | [0.62707581240581... \n",
      " probability   | [0.65182611621537... \n",
      " prediction    | 0.0                  \n",
      "-RECORD 14----------------------------\n",
      " Survived      | 0                    \n",
      " Pclass        | 2                    \n",
      " Sex           | male                 \n",
      " Age           | 18.0                 \n",
      " SibSp         | 0                    \n",
      " Parch         | 0                    \n",
      " Fare          | 13.0                 \n",
      " Embarked      | S                    \n",
      " SexIndex      | 0.0                  \n",
      " EmbarkIndex   | 0.0                  \n",
      " SexVec        | (1,[0],[1.0])        \n",
      " EmbarkVec     | (2,[0],[1.0])        \n",
      " features      | [2.0,1.0,18.0,0.0... \n",
      " rawPrediction | [0.75091211088301... \n",
      " probability   | [0.67937741108112... \n",
      " prediction    | 0.0                  \n",
      "only showing top 15 rows\n",
      "\n"
     ]
    }
   ],
   "source": [
    "results.show(n = 15, vertical=True)"
   ]
  },
  {
   "cell_type": "code",
   "execution_count": 57,
   "metadata": {},
   "outputs": [],
   "source": [
    "from pyspark.ml.evaluation import BinaryClassificationEvaluator"
   ]
  },
  {
   "cell_type": "code",
   "execution_count": 59,
   "metadata": {},
   "outputs": [],
   "source": [
    "my_eval = BinaryClassificationEvaluator(rawPredictionCol='prediction',\n",
    "                                       labelCol='Survived')"
   ]
  },
  {
   "cell_type": "code",
   "execution_count": 60,
   "metadata": {},
   "outputs": [
    {
     "name": "stdout",
     "output_type": "stream",
     "text": [
      "+--------+----------+\n",
      "|Survived|prediction|\n",
      "+--------+----------+\n",
      "|       0|       1.0|\n",
      "|       0|       1.0|\n",
      "|       0|       1.0|\n",
      "|       0|       0.0|\n",
      "|       0|       0.0|\n",
      "|       0|       0.0|\n",
      "|       0|       0.0|\n",
      "|       0|       0.0|\n",
      "|       0|       0.0|\n",
      "|       0|       0.0|\n",
      "|       0|       0.0|\n",
      "|       0|       0.0|\n",
      "|       0|       1.0|\n",
      "|       0|       0.0|\n",
      "|       0|       0.0|\n",
      "|       0|       0.0|\n",
      "|       0|       0.0|\n",
      "|       0|       0.0|\n",
      "|       0|       0.0|\n",
      "|       0|       0.0|\n",
      "+--------+----------+\n",
      "only showing top 20 rows\n",
      "\n"
     ]
    }
   ],
   "source": [
    "results.select('Survived','prediction').show()"
   ]
  },
  {
   "cell_type": "code",
   "execution_count": 61,
   "metadata": {},
   "outputs": [],
   "source": [
    "AUC = my_eval.evaluate(results)"
   ]
  },
  {
   "cell_type": "code",
   "execution_count": 62,
   "metadata": {},
   "outputs": [
    {
     "data": {
      "text/plain": [
       "0.7736905237904839"
      ]
     },
     "execution_count": 62,
     "metadata": {},
     "output_type": "execute_result"
    }
   ],
   "source": [
    "AUC"
   ]
  },
  {
   "cell_type": "code",
   "execution_count": null,
   "metadata": {},
   "outputs": [],
   "source": []
  }
 ],
 "metadata": {
  "anaconda-cloud": {},
  "kernelspec": {
   "display_name": "Python 3",
   "language": "python",
   "name": "python3"
  },
  "language_info": {
   "codemirror_mode": {
    "name": "ipython",
    "version": 3
   },
   "file_extension": ".py",
   "mimetype": "text/x-python",
   "name": "python",
   "nbconvert_exporter": "python",
   "pygments_lexer": "ipython3",
   "version": "3.7.9"
  }
 },
 "nbformat": 4,
 "nbformat_minor": 1
}
